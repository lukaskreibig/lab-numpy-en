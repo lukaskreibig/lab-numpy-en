{
 "cells": [
  {
   "cell_type": "markdown",
   "metadata": {},
   "source": [
    "# Lab | Numpy Deep Dive"
   ]
  },
  {
   "cell_type": "markdown",
   "metadata": {},
   "source": [
    "### 1. Import the NUMPY package under the name np.\n"
   ]
  },
  {
   "cell_type": "code",
   "execution_count": 2,
   "metadata": {},
   "outputs": [],
   "source": [
    "import numpy as np"
   ]
  },
  {
   "cell_type": "markdown",
   "metadata": {},
   "source": [
    "\n",
    "\n",
    "### 2. Print the NUMPY version and the configuration.\n"
   ]
  },
  {
   "cell_type": "code",
   "execution_count": 4,
   "metadata": {},
   "outputs": [
    {
     "name": "stdout",
     "output_type": "stream",
     "text": [
      "2.2.3\n"
     ]
    }
   ],
   "source": [
    "print(np.__version__)"
   ]
  },
  {
   "cell_type": "markdown",
   "metadata": {},
   "source": [
    "### 3. Generate a 2x3x5 3-dimensional array with random values. Assign the array to variable \"a\"\n",
    "Challenge: there are at least three easy ways that use numpy to generate random arrays. How many ways can you find?\n"
   ]
  },
  {
   "cell_type": "code",
   "execution_count": 5,
   "metadata": {},
   "outputs": [
    {
     "name": "stdout",
     "output_type": "stream",
     "text": [
      "Method 1: [[[0.84457135 0.24596875 0.58850156 0.01983009 0.12284487]\n",
      "  [0.84225521 0.43351503 0.33450696 0.06833435 0.16860517]\n",
      "  [0.41615158 0.97657004 0.20880316 0.28000742 0.41010462]]\n",
      "\n",
      " [[0.2364441  0.5333964  0.50365711 0.19989447 0.3190449 ]\n",
      "  [0.40523009 0.88042144 0.61570968 0.20597535 0.0977425 ]\n",
      "  [0.02711601 0.58079171 0.00789004 0.04381054 0.18636474]]]\n",
      "Method 2: [[[0.20242069 0.55012637 0.44483709 0.7917133  0.94730237]\n",
      "  [0.70495039 0.40877166 0.08635359 0.05042327 0.53336357]\n",
      "  [0.18481405 0.40735118 0.48357674 0.42849859 0.92795162]]\n",
      "\n",
      " [[0.62057485 0.36079327 0.91972044 0.19143477 0.11254638]\n",
      "  [0.34517015 0.24751309 0.865399   0.76319769 0.27274847]\n",
      "  [0.99679013 0.09508508 0.75736692 0.84186059 0.67704855]]]\n",
      "Method 3: [[[0.66106367 0.36212665 0.58036136 0.95558758 0.75197873]\n",
      "  [0.29109645 0.07562074 0.66867916 0.85267841 0.2241037 ]\n",
      "  [0.97833137 0.7322102  0.32256542 0.99520812 0.4551873 ]]\n",
      "\n",
      " [[0.33668508 0.60477317 0.18187735 0.09558085 0.28135438]\n",
      "  [0.62391654 0.04776035 0.47963327 0.20352586 0.24495635]\n",
      "  [0.79017501 0.82943252 0.20170488 0.12670898 0.69658038]]]\n",
      "Method 4: [[[0.19026654 0.43530283 0.50243727 0.84374543 0.74375938]\n",
      "  [0.58129757 0.83317179 0.58388941 0.46812014 0.00403439]\n",
      "  [0.65603333 0.58965849 0.55262685 0.02962201 0.92611341]]\n",
      "\n",
      " [[0.13576588 0.19784322 0.57625439 0.5953074  0.41709297]\n",
      "  [0.7663732  0.85533255 0.3283078  0.82206584 0.3712553 ]\n",
      "  [0.47384026 0.61846255 0.08969271 0.57916797 0.16022109]]]\n",
      "Method 5: [[[ 1.2116421   0.43129874 -0.60776219 -0.15106913  1.41528744]\n",
      "  [-0.05361008 -1.94444541  0.46646333  0.2486735   0.79732401]\n",
      "  [-1.23001069  0.99802567  1.49307161  0.80018949  0.59417603]]\n",
      "\n",
      " [[ 0.29835715 -0.31766173  0.71073945  1.20933111  0.19207981]\n",
      "  [ 0.92167189  0.81391779 -0.19201672  1.92437809 -0.87213041]\n",
      "  [-0.69819989  0.91668369 -0.76191589 -1.66342146 -0.19399098]]]\n"
     ]
    }
   ],
   "source": [
    "import numpy as np\n",
    "\n",
    "a = np.random.rand(2, 3, 5)\n",
    "print(\"Method 1:\", a)\n",
    "\n",
    "a = np.random.random((2, 3, 5))\n",
    "print(\"Method 2:\", a)\n",
    "\n",
    "a = np.random.random_sample((2, 3, 5))\n",
    "print(\"Method 3:\", a)\n",
    "\n",
    "a = np.random.uniform(0, 1, (2, 3, 5))\n",
    "print(\"Method 4:\", a)\n",
    "\n",
    "a = np.random.randn(2, 3, 5)\n",
    "print(\"Method 5:\", a)\n"
   ]
  },
  {
   "cell_type": "markdown",
   "metadata": {},
   "source": [
    "\n",
    "### 4. Print a.\n"
   ]
  },
  {
   "cell_type": "code",
   "execution_count": 6,
   "metadata": {},
   "outputs": [
    {
     "name": "stdout",
     "output_type": "stream",
     "text": [
      "Method 5: [[[ 1.2116421   0.43129874 -0.60776219 -0.15106913  1.41528744]\n",
      "  [-0.05361008 -1.94444541  0.46646333  0.2486735   0.79732401]\n",
      "  [-1.23001069  0.99802567  1.49307161  0.80018949  0.59417603]]\n",
      "\n",
      " [[ 0.29835715 -0.31766173  0.71073945  1.20933111  0.19207981]\n",
      "  [ 0.92167189  0.81391779 -0.19201672  1.92437809 -0.87213041]\n",
      "  [-0.69819989  0.91668369 -0.76191589 -1.66342146 -0.19399098]]]\n"
     ]
    }
   ],
   "source": [
    "print(\"Method 5:\", a)\n"
   ]
  },
  {
   "cell_type": "markdown",
   "metadata": {},
   "source": [
    "### 5. Create a 5x2x3 3-dimensional array with all values equaling 1.\n",
    "### Assign the array to variable \"b\"\n"
   ]
  },
  {
   "cell_type": "code",
   "execution_count": 7,
   "metadata": {},
   "outputs": [],
   "source": [
    "b = np.ones((5, 2, 3))\n"
   ]
  },
  {
   "cell_type": "markdown",
   "metadata": {},
   "source": [
    "\n",
    "### 6. Print b.\n"
   ]
  },
  {
   "cell_type": "code",
   "execution_count": null,
   "metadata": {},
   "outputs": [
    {
     "name": "stdout",
     "output_type": "stream",
     "text": [
      "[[[1. 1. 1.]\n",
      "  [1. 1. 1.]]\n",
      "\n",
      " [[1. 1. 1.]\n",
      "  [1. 1. 1.]]\n",
      "\n",
      " [[1. 1. 1.]\n",
      "  [1. 1. 1.]]\n",
      "\n",
      " [[1. 1. 1.]\n",
      "  [1. 1. 1.]]\n",
      "\n",
      " [[1. 1. 1.]\n",
      "  [1. 1. 1.]]]\n"
     ]
    }
   ],
   "source": [
    "print(b)"
   ]
  },
  {
   "cell_type": "markdown",
   "metadata": {},
   "source": [
    "\n",
    "### 7. Do a and b have the same size? How do you prove that in Python code?\n"
   ]
  },
  {
   "cell_type": "code",
   "execution_count": 9,
   "metadata": {},
   "outputs": [
    {
     "name": "stdout",
     "output_type": "stream",
     "text": [
      "Same size: True\n"
     ]
    }
   ],
   "source": [
    "print(\"Same size:\", a.size == b.size)"
   ]
  },
  {
   "cell_type": "markdown",
   "metadata": {},
   "source": [
    "\n",
    "### 8. Are you able to add a and b? Why or why not?\n"
   ]
  },
  {
   "cell_type": "code",
   "execution_count": null,
   "metadata": {},
   "outputs": [],
   "source": [
    "#Their shapes are different, means its not possible."
   ]
  },
  {
   "cell_type": "markdown",
   "metadata": {},
   "source": [
    "\n",
    "\n",
    "### 9. Transpose b so that it has the same structure of a (i.e. become a 2x3x5 array). Assign the transposed array to varialbe \"c\".\n"
   ]
  },
  {
   "cell_type": "code",
   "execution_count": 14,
   "metadata": {},
   "outputs": [],
   "source": [
    "c = b.transpose(1, 2, 0)"
   ]
  },
  {
   "cell_type": "markdown",
   "metadata": {},
   "source": [
    "\n",
    "### 10. Try to add a and c. Now it should work. Assign the sum to variable \"d\". But why does it work now?\n"
   ]
  },
  {
   "cell_type": "code",
   "execution_count": 15,
   "metadata": {},
   "outputs": [
    {
     "name": "stdout",
     "output_type": "stream",
     "text": [
      "[[[ 2.2116421   1.43129874  0.39223781  0.84893087  2.41528744]\n",
      "  [ 0.94638992 -0.94444541  1.46646333  1.2486735   1.79732401]\n",
      "  [-0.23001069  1.99802567  2.49307161  1.80018949  1.59417603]]\n",
      "\n",
      " [[ 1.29835715  0.68233827  1.71073945  2.20933111  1.19207981]\n",
      "  [ 1.92167189  1.81391779  0.80798328  2.92437809  0.12786959]\n",
      "  [ 0.30180011  1.91668369  0.23808411 -0.66342146  0.80600902]]]\n"
     ]
    }
   ],
   "source": [
    "d = c + a\n",
    "print(d)"
   ]
  },
  {
   "cell_type": "markdown",
   "metadata": {},
   "source": [
    "\n",
    "### 11. Print a and d. Notice the difference and relation of the two array in terms of the values? Explain.\n"
   ]
  },
  {
   "cell_type": "code",
   "execution_count": null,
   "metadata": {},
   "outputs": [
    {
     "name": "stdout",
     "output_type": "stream",
     "text": [
      "a [[[ 1.2116421   0.43129874 -0.60776219 -0.15106913  1.41528744]\n",
      "  [-0.05361008 -1.94444541  0.46646333  0.2486735   0.79732401]\n",
      "  [-1.23001069  0.99802567  1.49307161  0.80018949  0.59417603]]\n",
      "\n",
      " [[ 0.29835715 -0.31766173  0.71073945  1.20933111  0.19207981]\n",
      "  [ 0.92167189  0.81391779 -0.19201672  1.92437809 -0.87213041]\n",
      "  [-0.69819989  0.91668369 -0.76191589 -1.66342146 -0.19399098]]]\n",
      "d [[[ 2.2116421   1.43129874  0.39223781  0.84893087  2.41528744]\n",
      "  [ 0.94638992 -0.94444541  1.46646333  1.2486735   1.79732401]\n",
      "  [-0.23001069  1.99802567  2.49307161  1.80018949  1.59417603]]\n",
      "\n",
      " [[ 1.29835715  0.68233827  1.71073945  2.20933111  1.19207981]\n",
      "  [ 1.92167189  1.81391779  0.80798328  2.92437809  0.12786959]\n",
      "  [ 0.30180011  1.91668369  0.23808411 -0.66342146  0.80600902]]]\n"
     ]
    }
   ],
   "source": [
    "print(\"a\", a)\n",
    "print(\"d\", d)\n",
    "\n",
    "# The arrays structure from a matches the structure from d, so Numpy can do the addition.\n"
   ]
  },
  {
   "cell_type": "markdown",
   "metadata": {},
   "source": [
    "\n",
    "### 12. Multiply a and c. Assign the result to e.\n"
   ]
  },
  {
   "cell_type": "code",
   "execution_count": 21,
   "metadata": {},
   "outputs": [
    {
     "name": "stdout",
     "output_type": "stream",
     "text": [
      "[[[ 1.2116421   0.43129874 -0.60776219 -0.15106913  1.41528744]\n",
      "  [-0.05361008 -1.94444541  0.46646333  0.2486735   0.79732401]\n",
      "  [-1.23001069  0.99802567  1.49307161  0.80018949  0.59417603]]\n",
      "\n",
      " [[ 0.29835715 -0.31766173  0.71073945  1.20933111  0.19207981]\n",
      "  [ 0.92167189  0.81391779 -0.19201672  1.92437809 -0.87213041]\n",
      "  [-0.69819989  0.91668369 -0.76191589 -1.66342146 -0.19399098]]]\n"
     ]
    }
   ],
   "source": [
    "e = a * c\n",
    "print(e)"
   ]
  },
  {
   "cell_type": "markdown",
   "metadata": {},
   "source": [
    "\n",
    "\n",
    "### 13. Does e equal to a? Why or why not?\n"
   ]
  },
  {
   "cell_type": "code",
   "execution_count": 23,
   "metadata": {},
   "outputs": [
    {
     "name": "stdout",
     "output_type": "stream",
     "text": [
      "[[[ True  True  True  True  True]\n",
      "  [ True  True  True  True  True]\n",
      "  [ True  True  True  True  True]]\n",
      "\n",
      " [[ True  True  True  True  True]\n",
      "  [ True  True  True  True  True]\n",
      "  [ True  True  True  True  True]]]\n"
     ]
    }
   ],
   "source": [
    "print(e == a)\n",
    "\n",
    "#They match because we multiply every number by 1. Means they stay unchanged."
   ]
  },
  {
   "cell_type": "markdown",
   "metadata": {},
   "source": [
    "\n",
    "\n",
    "### 14. Identify the max, min, and mean values in d. Assign those values to variables \"d_max\", \"d_min\", and \"d_mean\"\n"
   ]
  },
  {
   "cell_type": "code",
   "execution_count": 26,
   "metadata": {},
   "outputs": [],
   "source": [
    "d_max = d.max()\n",
    "d_min = d.min()\n",
    "d_mean = d.mean()\n"
   ]
  },
  {
   "cell_type": "markdown",
   "metadata": {},
   "source": [
    "\n",
    "### 15. Now we want to label the values in d. First create an empty array \"f\" with the same shape (i.e. 2x3x5) as d using `np.empty`.\n"
   ]
  },
  {
   "cell_type": "code",
   "execution_count": 28,
   "metadata": {},
   "outputs": [
    {
     "name": "stdout",
     "output_type": "stream",
     "text": [
      "[[[1.2116421  0.43129874 0.60776219 0.15106913 1.41528744]\n",
      "  [0.05361008 1.94444541 0.46646333 0.2486735  0.79732401]\n",
      "  [1.23001069 0.99802567 1.49307161 0.80018949 0.59417603]]\n",
      "\n",
      " [[0.29835715 0.31766173 0.71073945 1.20933111 0.19207981]\n",
      "  [0.92167189 0.81391779 0.19201672 1.92437809 0.87213041]\n",
      "  [0.69819989 0.91668369 0.76191589 1.66342146 0.19399098]]]\n"
     ]
    }
   ],
   "source": [
    "f = np.empty((2,3,5))\n",
    "print(f)"
   ]
  },
  {
   "cell_type": "markdown",
   "metadata": {},
   "source": [
    "\n",
    "\n",
    "\n",
    "### 16. Populate the values in f. For each value in d, if it's larger than d_min but smaller than d_mean, assign 25 to the corresponding value in f.\n",
    "If a value in d is larger than d_mean but smaller than d_max, assign 75 to the corresponding value in f.\n",
    "If a value equals to d_mean, assign 50 to the corresponding value in f.\n",
    "Assign 0 to the corresponding value(s) in f for d_min in d.\n",
    "Assign 100 to the corresponding value(s) in f for d_max in d.\n",
    "In the end, f should have only the following values: 0, 25, 50, 75, and 100.\n",
    "Note: you don't have to use Numpy in this question.\n",
    "\n"
   ]
  },
  {
   "cell_type": "code",
   "execution_count": null,
   "metadata": {},
   "outputs": [
    {
     "name": "stdout",
     "output_type": "stream",
     "text": [
      "d:\n",
      "[[[ 2.2116421   1.43129874  0.39223781  0.84893087  2.41528744]\n",
      "  [ 0.94638992 -0.94444541  1.46646333  1.2486735   1.79732401]\n",
      "  [-0.23001069  1.99802567  2.49307161  1.80018949  1.59417603]]\n",
      "\n",
      " [[ 1.29835715  0.68233827  1.71073945  2.20933111  1.19207981]\n",
      "  [ 1.92167189  1.81391779  0.80798328  2.92437809  0.12786959]\n",
      "  [ 0.30180011  1.91668369  0.23808411 -0.66342146  0.80600902]]]\n",
      "\n",
      "d_min = -0.9444454146364405  d_mean = 1.2252358772361591  d_max = 2.9243780949870155\n",
      "\n",
      "f:\n",
      "[[[ 75.  75.  25.  25.  75.]\n",
      "  [ 25.   0.  75.  75.  75.]\n",
      "  [ 25.  75.  75.  75.  75.]]\n",
      "\n",
      " [[ 75.  25.  75.  75.  25.]\n",
      "  [ 75.  75.  25. 100.  25.]\n",
      "  [ 25.  75.  25.  25.  25.]]]\n"
     ]
    }
   ],
   "source": [
    "for i in range(d.shape[0]):\n",
    "    for j in range(d.shape[1]):\n",
    "        for k in range(d.shape[2]):\n",
    "            val = d[i, j, k]\n",
    "            if val == d_min:\n",
    "                f[i, j, k] = 0\n",
    "            elif val == d_max:\n",
    "                f[i, j, k] = 100\n",
    "            elif val == d_mean:\n",
    "                f[i, j, k] = 50\n",
    "            elif d_min < val < d_mean:\n",
    "                f[i, j, k] = 25\n",
    "            elif d_mean < val < d_max:\n",
    "                f[i, j, k] = 75\n"
   ]
  },
  {
   "cell_type": "markdown",
   "metadata": {},
   "source": [
    "\n",
    "\n",
    "\n",
    "\n",
    "### 17. Print d and f. Do you have your expected f?\n",
    "For instance, if your d is:\n",
    "array([[[1.85836099, 1.67064465, 1.62576044, 1.40243961, 1.88454931],\n",
    "        [1.75354326, 1.69403643, 1.36729252, 1.61415071, 1.12104981],\n",
    "        [1.72201435, 1.1862918 , 1.87078449, 1.7726778 , 1.88180042]],\n",
    "\n",
    "       [[1.44747908, 1.31673383, 1.02000951, 1.52218947, 1.97066381],\n",
    "        [1.79129243, 1.74983003, 1.96028037, 1.85166831, 1.65450881],\n",
    "        [1.18068344, 1.9587381 , 1.00656599, 1.93402165, 1.73514584]]])\n",
    "\n",
    "Your f should be:\n",
    "array([[[ 75.,  75.,  75.,  25.,  75.],\n",
    "        [ 75.,  75.,  25.,  25.,  25.],\n",
    "        [ 75.,  25.,  75.,  75.,  75.]],\n",
    "\n",
    "       [[ 25.,  25.,  25.,  25., 100.],\n",
    "        [ 75.,  75.,  75.,  75.,  75.],\n",
    "        [ 25.,  75.,   0.,  75.,  75.]]])\n",
    "\n"
   ]
  },
  {
   "cell_type": "code",
   "execution_count": 30,
   "metadata": {},
   "outputs": [
    {
     "name": "stdout",
     "output_type": "stream",
     "text": [
      "d:\n",
      "[[[ 2.2116421   1.43129874  0.39223781  0.84893087  2.41528744]\n",
      "  [ 0.94638992 -0.94444541  1.46646333  1.2486735   1.79732401]\n",
      "  [-0.23001069  1.99802567  2.49307161  1.80018949  1.59417603]]\n",
      "\n",
      " [[ 1.29835715  0.68233827  1.71073945  2.20933111  1.19207981]\n",
      "  [ 1.92167189  1.81391779  0.80798328  2.92437809  0.12786959]\n",
      "  [ 0.30180011  1.91668369  0.23808411 -0.66342146  0.80600902]]]\n",
      "f:\n",
      "[[[ 75.  75.  25.  25.  75.]\n",
      "  [ 25.   0.  75.  75.  75.]\n",
      "  [ 25.  75.  75.  75.  75.]]\n",
      "\n",
      " [[ 75.  25.  75.  75.  25.]\n",
      "  [ 75.  75.  25. 100.  25.]\n",
      "  [ 25.  75.  25.  25.  25.]]]\n"
     ]
    }
   ],
   "source": [
    "print(\"d:\")\n",
    "print(d)\n",
    "print(\"f:\")\n",
    "print(f)"
   ]
  },
  {
   "cell_type": "markdown",
   "metadata": {},
   "source": [
    "### 18. Bonus question: instead of using numbers (i.e. 0, 25, 50, 75, and 100), how to use string values \n",
    "(\"A\", \"B\", \"C\", \"D\", and \"E\") to label the array elements? You are expecting the result to be:\n",
    "array([[[ 'D',  'D',  'D',  'B',  'D'],\n",
    "        [ 'D',  'D',  'B',  'B',  'B'],\n",
    "        [ 'D',  'B',  'D',  'D',  'D']],\n",
    "\n",
    "       [[ 'B',  'B',  'B',  'B',  'E'],\n",
    "        [ 'D',  'D',  'D',  'D',  'D'],\n",
    "        [ 'B',  'D',   'A',  'D', 'D']]])\n",
    "Again, you don't need Numpy in this question."
   ]
  },
  {
   "cell_type": "code",
   "execution_count": 36,
   "metadata": {},
   "outputs": [],
   "source": [
    "### [your code here]"
   ]
  }
 ],
 "metadata": {
  "kernelspec": {
   "display_name": ".venv",
   "language": "python",
   "name": "python3"
  },
  "language_info": {
   "codemirror_mode": {
    "name": "ipython",
    "version": 3
   },
   "file_extension": ".py",
   "mimetype": "text/x-python",
   "name": "python",
   "nbconvert_exporter": "python",
   "pygments_lexer": "ipython3",
   "version": "3.13.2"
  }
 },
 "nbformat": 4,
 "nbformat_minor": 2
}
